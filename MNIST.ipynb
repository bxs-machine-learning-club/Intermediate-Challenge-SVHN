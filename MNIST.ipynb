{
 "cells": [
  {
   "cell_type": "code",
   "execution_count": 63,
   "metadata": {},
   "outputs": [],
   "source": [
    "import numpy as np\n",
    "import matplotlib.pyplot as plt\n",
    "import pandas as pd\n",
    "from sklearn.preprocessing import scale\n",
    "import tensorflow.keras as keras\n",
    "from keras.utils import to_categorical\n",
    "from keras.models import Sequential\n",
    "from keras.layers import Dense, Activation, Dropout, Flatten, Conv2D, BatchNormalization\n",
    "from keras.callbacks import ModelCheckpoint\n",
    "from keras.callbacks import EarlyStopping\n",
    "from keras.datasets import mnist\n",
    "from keras import backend as K\n",
    "from keras import regularizers"
   ]
  },
  {
   "cell_type": "code",
   "execution_count": 19,
   "metadata": {},
   "outputs": [],
   "source": [
    "(x_train, y_train), (x_test, y_test) = mnist.load_data()"
   ]
  },
  {
   "cell_type": "code",
   "execution_count": 20,
   "metadata": {},
   "outputs": [
    {
     "data": {
      "text/plain": [
       "1"
      ]
     },
     "execution_count": 20,
     "metadata": {},
     "output_type": "execute_result"
    }
   ],
   "source": [
    "y_train.ndim"
   ]
  },
  {
   "cell_type": "code",
   "execution_count": 22,
   "metadata": {},
   "outputs": [],
   "source": [
    "#image rows and columns = 28\n",
    "if K.image_data_format() == 'channels_first':\n",
    "    x_train = x_train.reshape(x_train.shape[0], 1, 28, 28)\n",
    "    x_test = x_test.reshape(x_test.shape[0], 1, 28, 28)\n",
    "    input_shape = (1, 28, 28)\n",
    "else:\n",
    "    x_train = x_train.reshape(x_train.shape[0], 28, 28, 1)\n",
    "    x_test = x_test.reshape(x_test.shape[0], 28, 28, 1)\n",
    "    input_shape = (28, 28, 1)"
   ]
  },
  {
   "cell_type": "code",
   "execution_count": 29,
   "metadata": {},
   "outputs": [],
   "source": [
    "# convert class vectors to binary class matrices\n",
    "#10 cuz there are 10 classes\n",
    "y_train = to_categorical(y_train, 10)\n",
    "y_test = to_categorical(y_test, 10)"
   ]
  },
  {
   "cell_type": "code",
   "execution_count": 101,
   "metadata": {
    "scrolled": true
   },
   "outputs": [
    {
     "name": "stdout",
     "output_type": "stream",
     "text": [
      "Model: \"sequential_20\"\n",
      "_________________________________________________________________\n",
      "Layer (type)                 Output Shape              Param #   \n",
      "=================================================================\n",
      "conv2d_39 (Conv2D)           (None, 13, 13, 20)        200       \n",
      "_________________________________________________________________\n",
      "activation_100 (Activation)  (None, 13, 13, 20)        0         \n",
      "_________________________________________________________________\n",
      "conv2d_40 (Conv2D)           (None, 6, 6, 30)          5430      \n",
      "_________________________________________________________________\n",
      "activation_101 (Activation)  (None, 6, 6, 30)          0         \n",
      "_________________________________________________________________\n",
      "flatten_21 (Flatten)         (None, 1080)              0         \n",
      "_________________________________________________________________\n",
      "dropout_52 (Dropout)         (None, 1080)              0         \n",
      "_________________________________________________________________\n",
      "dense_62 (Dense)             (None, 128)               138368    \n",
      "_________________________________________________________________\n",
      "activation_102 (Activation)  (None, 128)               0         \n",
      "_________________________________________________________________\n",
      "dropout_53 (Dropout)         (None, 128)               0         \n",
      "_________________________________________________________________\n",
      "dense_63 (Dense)             (None, 64)                8256      \n",
      "_________________________________________________________________\n",
      "activation_103 (Activation)  (None, 64)                0         \n",
      "_________________________________________________________________\n",
      "dropout_54 (Dropout)         (None, 64)                0         \n",
      "_________________________________________________________________\n",
      "dense_64 (Dense)             (None, 32)                2080      \n",
      "_________________________________________________________________\n",
      "activation_104 (Activation)  (None, 32)                0         \n",
      "_________________________________________________________________\n",
      "dropout_55 (Dropout)         (None, 32)                0         \n",
      "_________________________________________________________________\n",
      "dense_65 (Dense)             (None, 16)                528       \n",
      "_________________________________________________________________\n",
      "activation_105 (Activation)  (None, 16)                0         \n",
      "_________________________________________________________________\n",
      "dropout_56 (Dropout)         (None, 16)                0         \n",
      "_________________________________________________________________\n",
      "dense_66 (Dense)             (None, 10)                170       \n",
      "_________________________________________________________________\n",
      "activation_106 (Activation)  (None, 10)                0         \n",
      "=================================================================\n",
      "Total params: 155,032\n",
      "Trainable params: 155,032\n",
      "Non-trainable params: 0\n",
      "_________________________________________________________________\n"
     ]
    }
   ],
   "source": [
    "model = Sequential([\n",
    "    Conv2D(20, kernel_size = 3, strides = 2, bias_initializer = \"zeros\", kernel_initializer='he_normal', input_shape = input_shape), #this input shape is the one in the function above\n",
    "    Activation('relu'),\n",
    "    Conv2D(30, kernel_size = 3 , strides = 2, kernel_regularizer = regularizers.l2(0.01)),\n",
    "    Activation('relu'),\n",
    "    Flatten(),\n",
    "    Dropout(0.1),\n",
    "    Dense(128, kernel_regularizer = regularizers.l2(0.001)),\n",
    "    Activation('relu'),\n",
    "    Dropout(.2),\n",
    "    Dense(64, kernel_regularizer = regularizers.l2(0.01)),\n",
    "    Activation('relu'),\n",
    "    Dropout(.3),\n",
    "    Dense(32, kernel_regularizer = regularizers.l2(0.01)),\n",
    "    Activation('relu'),\n",
    "    Dropout(.4),\n",
    "    Dense(16, kernel_regularizer = regularizers.l2(0.01)),\n",
    "    Activation('relu'),\n",
    "    Dropout(.5),\n",
    "    Dense(10, kernel_regularizer = regularizers.l2(0.001)),\n",
    "    Activation('softmax'),\n",
    "])\n",
    "model.summary()"
   ]
  },
  {
   "cell_type": "code",
   "execution_count": 102,
   "metadata": {},
   "outputs": [],
   "source": [
    "callbacks = []\n",
    "callbacks.append(EarlyStopping('val_accuracy', patience=50, restore_best_weights=True))\n",
    "callbacks.append(ModelCheckpoint(\"best-weights.hdf5\", monitor='val_accuracy', verbose=1, save_best_only=True, period=10))"
   ]
  },
  {
   "cell_type": "code",
   "execution_count": 103,
   "metadata": {},
   "outputs": [],
   "source": [
    "model.compile(optimizer = 'adam', \n",
    "              loss = \"categorical_crossentropy\", \n",
    "              metrics = ['accuracy'])"
   ]
  },
  {
   "cell_type": "code",
   "execution_count": 104,
   "metadata": {
    "scrolled": true
   },
   "outputs": [
    {
     "name": "stdout",
     "output_type": "stream",
     "text": [
      "Train on 60000 samples, validate on 10000 samples\n",
      "Epoch 1/100\n",
      "60000/60000 [==============================] - 6s 103us/step - loss: 8.4386 - accuracy: 0.1196 - val_loss: 4.1304 - val_accuracy: 0.1960\n",
      "Epoch 2/100\n",
      "60000/60000 [==============================] - 5s 79us/step - loss: 4.1570 - accuracy: 0.1401 - val_loss: 3.9158 - val_accuracy: 0.2472\n",
      "Epoch 3/100\n",
      "60000/60000 [==============================] - 5s 83us/step - loss: 3.9142 - accuracy: 0.1723 - val_loss: 3.7021 - val_accuracy: 0.3147\n",
      "Epoch 4/100\n",
      "60000/60000 [==============================] - 5s 78us/step - loss: 3.6834 - accuracy: 0.2193 - val_loss: 3.3579 - val_accuracy: 0.4926\n",
      "Epoch 5/100\n",
      "60000/60000 [==============================] - 5s 76us/step - loss: 3.4312 - accuracy: 0.2892 - val_loss: 2.9690 - val_accuracy: 0.6832\n",
      "Epoch 6/100\n",
      "60000/60000 [==============================] - 5s 75us/step - loss: 3.1662 - accuracy: 0.3507 - val_loss: 2.5788 - val_accuracy: 0.7920\n",
      "Epoch 7/100\n",
      "60000/60000 [==============================] - 5s 75us/step - loss: 2.9119 - accuracy: 0.4102 - val_loss: 2.2135 - val_accuracy: 0.8311\n",
      "Epoch 8/100\n",
      "60000/60000 [==============================] - 5s 76us/step - loss: 2.6461 - accuracy: 0.4840 - val_loss: 1.8809 - val_accuracy: 0.9043\n",
      "Epoch 9/100\n",
      "60000/60000 [==============================] - 6s 97us/step - loss: 2.4320 - accuracy: 0.5463 - val_loss: 1.6462 - val_accuracy: 0.9428\n",
      "Epoch 10/100\n",
      "60000/60000 [==============================] - 8s 133us/step - loss: 2.2042 - accuracy: 0.6127 - val_loss: 1.4211 - val_accuracy: 0.9589\n",
      "\n",
      "Epoch 00010: val_accuracy improved from -inf to 0.95890, saving model to best-weights.hdf5\n",
      "Epoch 11/100\n",
      "60000/60000 [==============================] - 9s 156us/step - loss: 2.0423 - accuracy: 0.6553 - val_loss: 1.2906 - val_accuracy: 0.9620\n",
      "Epoch 12/100\n",
      "60000/60000 [==============================] - 6s 103us/step - loss: 1.8979 - accuracy: 0.6831 - val_loss: 1.1841 - val_accuracy: 0.9657\n",
      "Epoch 13/100\n",
      "60000/60000 [==============================] - 6s 106us/step - loss: 1.7790 - accuracy: 0.7095 - val_loss: 1.1022 - val_accuracy: 0.9676\n",
      "Epoch 14/100\n",
      "60000/60000 [==============================] - 5s 77us/step - loss: 1.6716 - accuracy: 0.7326 - val_loss: 1.0256 - val_accuracy: 0.9701\n",
      "Epoch 15/100\n",
      "60000/60000 [==============================] - 5s 76us/step - loss: 1.5956 - accuracy: 0.7437 - val_loss: 0.9682 - val_accuracy: 0.9724\n",
      "Epoch 16/100\n",
      "60000/60000 [==============================] - 5s 84us/step - loss: 1.5046 - accuracy: 0.7562 - val_loss: 0.8980 - val_accuracy: 0.9744\n",
      "Epoch 17/100\n",
      "60000/60000 [==============================] - 4s 73us/step - loss: 1.4319 - accuracy: 0.7688 - val_loss: 0.8376 - val_accuracy: 0.9755\n",
      "Epoch 18/100\n",
      "60000/60000 [==============================] - 4s 72us/step - loss: 1.3762 - accuracy: 0.7769 - val_loss: 0.7997 - val_accuracy: 0.9780\n",
      "Epoch 19/100\n",
      "60000/60000 [==============================] - 4s 75us/step - loss: 1.3176 - accuracy: 0.7851 - val_loss: 0.7566 - val_accuracy: 0.9769\n",
      "Epoch 20/100\n",
      "60000/60000 [==============================] - 5s 80us/step - loss: 1.2625 - accuracy: 0.7939 - val_loss: 0.7187 - val_accuracy: 0.9767\n",
      "\n",
      "Epoch 00020: val_accuracy improved from 0.95890 to 0.97670, saving model to best-weights.hdf5\n",
      "Epoch 21/100\n",
      "60000/60000 [==============================] - 5s 82us/step - loss: 1.2078 - accuracy: 0.8043 - val_loss: 0.6995 - val_accuracy: 0.9771\n",
      "Epoch 22/100\n",
      "60000/60000 [==============================] - 5s 76us/step - loss: 1.1572 - accuracy: 0.8125 - val_loss: 0.6667 - val_accuracy: 0.9788\n",
      "Epoch 23/100\n",
      "60000/60000 [==============================] - 4s 72us/step - loss: 1.1156 - accuracy: 0.8204 - val_loss: 0.6330 - val_accuracy: 0.9797\n",
      "Epoch 24/100\n",
      "60000/60000 [==============================] - 4s 74us/step - loss: 1.0728 - accuracy: 0.8278 - val_loss: 0.6095 - val_accuracy: 0.9802\n",
      "Epoch 25/100\n",
      "60000/60000 [==============================] - 5s 75us/step - loss: 1.0485 - accuracy: 0.8273 - val_loss: 0.5868 - val_accuracy: 0.9805\n",
      "Epoch 26/100\n",
      "60000/60000 [==============================] - 5s 85us/step - loss: 1.0138 - accuracy: 0.8314 - val_loss: 0.5640 - val_accuracy: 0.9803\n",
      "Epoch 27/100\n",
      "60000/60000 [==============================] - 5s 76us/step - loss: 0.9922 - accuracy: 0.8326 - val_loss: 0.5404 - val_accuracy: 0.9821\n",
      "Epoch 28/100\n",
      "60000/60000 [==============================] - 5s 87us/step - loss: 0.9640 - accuracy: 0.8339 - val_loss: 0.5286 - val_accuracy: 0.9819\n",
      "Epoch 29/100\n",
      "60000/60000 [==============================] - 6s 96us/step - loss: 0.9283 - accuracy: 0.8437 - val_loss: 0.5075 - val_accuracy: 0.9823\n",
      "Epoch 30/100\n",
      "60000/60000 [==============================] - 5s 81us/step - loss: 0.9108 - accuracy: 0.8430 - val_loss: 0.4866 - val_accuracy: 0.9827\n",
      "\n",
      "Epoch 00030: val_accuracy improved from 0.97670 to 0.98270, saving model to best-weights.hdf5\n",
      "Epoch 31/100\n",
      "60000/60000 [==============================] - 5s 79us/step - loss: 0.8795 - accuracy: 0.8478 - val_loss: 0.4705 - val_accuracy: 0.9817\n",
      "Epoch 32/100\n",
      "60000/60000 [==============================] - 5s 79us/step - loss: 0.8599 - accuracy: 0.8476 - val_loss: 0.4599 - val_accuracy: 0.9822\n",
      "Epoch 33/100\n",
      "60000/60000 [==============================] - 5s 78us/step - loss: 0.8502 - accuracy: 0.8473 - val_loss: 0.4389 - val_accuracy: 0.9850\n",
      "Epoch 34/100\n",
      "60000/60000 [==============================] - 5s 82us/step - loss: 0.8222 - accuracy: 0.8525 - val_loss: 0.4299 - val_accuracy: 0.9815\n",
      "Epoch 35/100\n",
      "60000/60000 [==============================] - 5s 87us/step - loss: 0.7992 - accuracy: 0.8545 - val_loss: 0.4212 - val_accuracy: 0.9844\n",
      "Epoch 36/100\n",
      "60000/60000 [==============================] - 5s 81us/step - loss: 0.7908 - accuracy: 0.8543 - val_loss: 0.4177 - val_accuracy: 0.9815\n",
      "Epoch 37/100\n",
      "60000/60000 [==============================] - 5s 77us/step - loss: 0.7720 - accuracy: 0.8591 - val_loss: 0.4002 - val_accuracy: 0.9844\n",
      "Epoch 38/100\n",
      "60000/60000 [==============================] - 5s 89us/step - loss: 0.7542 - accuracy: 0.8608 - val_loss: 0.3933 - val_accuracy: 0.9834\n",
      "Epoch 39/100\n",
      "60000/60000 [==============================] - 5s 87us/step - loss: 0.7431 - accuracy: 0.8622 - val_loss: 0.3829 - val_accuracy: 0.9832\n",
      "Epoch 40/100\n",
      "60000/60000 [==============================] - 6s 92us/step - loss: 0.7305 - accuracy: 0.8633 - val_loss: 0.3695 - val_accuracy: 0.9847\n",
      "\n",
      "Epoch 00040: val_accuracy improved from 0.98270 to 0.98470, saving model to best-weights.hdf5\n",
      "Epoch 41/100\n",
      "60000/60000 [==============================] - 5s 84us/step - loss: 0.7233 - accuracy: 0.8634 - val_loss: 0.3674 - val_accuracy: 0.9839\n",
      "Epoch 42/100\n",
      "60000/60000 [==============================] - 5s 81us/step - loss: 0.7064 - accuracy: 0.8664 - val_loss: 0.3593 - val_accuracy: 0.9845\n",
      "Epoch 43/100\n",
      "60000/60000 [==============================] - 5s 83us/step - loss: 0.6946 - accuracy: 0.8677 - val_loss: 0.3565 - val_accuracy: 0.9823\n",
      "Epoch 44/100\n",
      "60000/60000 [==============================] - 5s 77us/step - loss: 0.6832 - accuracy: 0.8695 - val_loss: 0.3525 - val_accuracy: 0.9842\n",
      "Epoch 45/100\n",
      "60000/60000 [==============================] - 5s 89us/step - loss: 0.6751 - accuracy: 0.8713 - val_loss: 0.3443 - val_accuracy: 0.9836\n",
      "Epoch 46/100\n",
      "60000/60000 [==============================] - 5s 81us/step - loss: 0.6673 - accuracy: 0.8705 - val_loss: 0.3377 - val_accuracy: 0.9849\n",
      "Epoch 47/100\n",
      "60000/60000 [==============================] - 5s 81us/step - loss: 0.6507 - accuracy: 0.8737 - val_loss: 0.3331 - val_accuracy: 0.9852\n",
      "Epoch 48/100\n",
      "60000/60000 [==============================] - 5s 82us/step - loss: 0.6461 - accuracy: 0.8733 - val_loss: 0.3279 - val_accuracy: 0.9833\n",
      "Epoch 49/100\n",
      "60000/60000 [==============================] - 5s 88us/step - loss: 0.6390 - accuracy: 0.8736 - val_loss: 0.3138 - val_accuracy: 0.9852\n",
      "Epoch 50/100\n",
      "60000/60000 [==============================] - 5s 85us/step - loss: 0.6318 - accuracy: 0.8763 - val_loss: 0.3376 - val_accuracy: 0.9832\n",
      "\n",
      "Epoch 00050: val_accuracy did not improve from 0.98470\n",
      "Epoch 51/100\n",
      "60000/60000 [==============================] - 5s 81us/step - loss: 0.6271 - accuracy: 0.8772 - val_loss: 0.3220 - val_accuracy: 0.9842\n",
      "Epoch 52/100\n",
      "60000/60000 [==============================] - 5s 81us/step - loss: 0.6159 - accuracy: 0.8777 - val_loss: 0.3088 - val_accuracy: 0.9870\n"
     ]
    },
    {
     "name": "stdout",
     "output_type": "stream",
     "text": [
      "Epoch 53/100\n",
      "60000/60000 [==============================] - 5s 83us/step - loss: 0.6122 - accuracy: 0.8782 - val_loss: 0.3104 - val_accuracy: 0.9850\n",
      "Epoch 54/100\n",
      "60000/60000 [==============================] - 5s 80us/step - loss: 0.6097 - accuracy: 0.8777 - val_loss: 0.3052 - val_accuracy: 0.9864\n",
      "Epoch 55/100\n",
      "60000/60000 [==============================] - 5s 87us/step - loss: 0.6026 - accuracy: 0.8797 - val_loss: 0.3111 - val_accuracy: 0.9834\n",
      "Epoch 56/100\n",
      "60000/60000 [==============================] - 5s 80us/step - loss: 0.5959 - accuracy: 0.8809 - val_loss: 0.3130 - val_accuracy: 0.9859\n",
      "Epoch 57/100\n",
      "60000/60000 [==============================] - 5s 77us/step - loss: 0.5964 - accuracy: 0.8802 - val_loss: 0.2946 - val_accuracy: 0.9862\n",
      "Epoch 58/100\n",
      "60000/60000 [==============================] - 5s 76us/step - loss: 0.5865 - accuracy: 0.8806 - val_loss: 0.2943 - val_accuracy: 0.9857\n",
      "Epoch 59/100\n",
      "60000/60000 [==============================] - 5s 89us/step - loss: 0.5867 - accuracy: 0.8800 - val_loss: 0.2793 - val_accuracy: 0.9874\n",
      "Epoch 60/100\n",
      "60000/60000 [==============================] - 5s 91us/step - loss: 0.5760 - accuracy: 0.8826 - val_loss: 0.2831 - val_accuracy: 0.9860\n",
      "\n",
      "Epoch 00060: val_accuracy improved from 0.98470 to 0.98600, saving model to best-weights.hdf5\n",
      "Epoch 61/100\n",
      "60000/60000 [==============================] - 5s 87us/step - loss: 0.5668 - accuracy: 0.8860 - val_loss: 0.2816 - val_accuracy: 0.9862\n",
      "Epoch 62/100\n",
      "60000/60000 [==============================] - 5s 83us/step - loss: 0.5623 - accuracy: 0.8856 - val_loss: 0.2871 - val_accuracy: 0.9854\n",
      "Epoch 63/100\n",
      "60000/60000 [==============================] - 5s 89us/step - loss: 0.5664 - accuracy: 0.8844 - val_loss: 0.2868 - val_accuracy: 0.9864\n",
      "Epoch 64/100\n",
      "60000/60000 [==============================] - 5s 80us/step - loss: 0.5587 - accuracy: 0.8855 - val_loss: 0.2794 - val_accuracy: 0.9853\n",
      "Epoch 65/100\n",
      "60000/60000 [==============================] - 5s 78us/step - loss: 0.5579 - accuracy: 0.8859 - val_loss: 0.2662 - val_accuracy: 0.9876\n",
      "Epoch 66/100\n",
      "60000/60000 [==============================] - 5s 81us/step - loss: 0.5489 - accuracy: 0.8880 - val_loss: 0.2640 - val_accuracy: 0.9880\n",
      "Epoch 67/100\n",
      "60000/60000 [==============================] - 5s 81us/step - loss: 0.5490 - accuracy: 0.8863 - val_loss: 0.2671 - val_accuracy: 0.9874\n",
      "Epoch 68/100\n",
      "60000/60000 [==============================] - 5s 77us/step - loss: 0.5462 - accuracy: 0.8881 - val_loss: 0.2718 - val_accuracy: 0.9870\n",
      "Epoch 69/100\n",
      "60000/60000 [==============================] - 6s 103us/step - loss: 0.5489 - accuracy: 0.8859 - val_loss: 0.2828 - val_accuracy: 0.9834\n",
      "Epoch 70/100\n",
      "60000/60000 [==============================] - 5s 81us/step - loss: 0.5487 - accuracy: 0.8857 - val_loss: 0.2609 - val_accuracy: 0.9879\n",
      "\n",
      "Epoch 00070: val_accuracy improved from 0.98600 to 0.98790, saving model to best-weights.hdf5\n",
      "Epoch 71/100\n",
      "60000/60000 [==============================] - 5s 78us/step - loss: 0.5386 - accuracy: 0.8877 - val_loss: 0.2755 - val_accuracy: 0.9866\n",
      "Epoch 72/100\n",
      "60000/60000 [==============================] - 5s 76us/step - loss: 0.5411 - accuracy: 0.8866 - val_loss: 0.2714 - val_accuracy: 0.9853\n",
      "Epoch 73/100\n",
      "60000/60000 [==============================] - 5s 76us/step - loss: 0.5460 - accuracy: 0.8852 - val_loss: 0.2622 - val_accuracy: 0.9873\n",
      "Epoch 74/100\n",
      "60000/60000 [==============================] - 5s 76us/step - loss: 0.5338 - accuracy: 0.8903 - val_loss: 0.2736 - val_accuracy: 0.9869\n",
      "Epoch 75/100\n",
      "60000/60000 [==============================] - 5s 77us/step - loss: 0.5387 - accuracy: 0.8892 - val_loss: 0.2676 - val_accuracy: 0.9861\n",
      "Epoch 76/100\n",
      "60000/60000 [==============================] - 5s 78us/step - loss: 0.5309 - accuracy: 0.8887 - val_loss: 0.2711 - val_accuracy: 0.9848\n",
      "Epoch 77/100\n",
      "60000/60000 [==============================] - 5s 79us/step - loss: 0.5307 - accuracy: 0.8900 - val_loss: 0.2731 - val_accuracy: 0.9860\n",
      "Epoch 78/100\n",
      "60000/60000 [==============================] - 5s 89us/step - loss: 0.5253 - accuracy: 0.8900 - val_loss: 0.2669 - val_accuracy: 0.9868\n",
      "Epoch 79/100\n",
      "60000/60000 [==============================] - 5s 86us/step - loss: 0.5306 - accuracy: 0.8897 - val_loss: 0.2614 - val_accuracy: 0.9877\n",
      "Epoch 80/100\n",
      "60000/60000 [==============================] - 5s 79us/step - loss: 0.5228 - accuracy: 0.8904 - val_loss: 0.2610 - val_accuracy: 0.9865\n",
      "\n",
      "Epoch 00080: val_accuracy did not improve from 0.98790\n",
      "Epoch 81/100\n",
      "60000/60000 [==============================] - 5s 82us/step - loss: 0.5194 - accuracy: 0.8917 - val_loss: 0.2599 - val_accuracy: 0.9880\n",
      "Epoch 82/100\n",
      "60000/60000 [==============================] - 5s 80us/step - loss: 0.5213 - accuracy: 0.8915 - val_loss: 0.2644 - val_accuracy: 0.9880\n",
      "Epoch 83/100\n",
      "60000/60000 [==============================] - 5s 78us/step - loss: 0.5115 - accuracy: 0.8936 - val_loss: 0.2790 - val_accuracy: 0.9857\n",
      "Epoch 84/100\n",
      "60000/60000 [==============================] - 5s 78us/step - loss: 0.5167 - accuracy: 0.8932 - val_loss: 0.2619 - val_accuracy: 0.9876\n",
      "Epoch 85/100\n",
      "60000/60000 [==============================] - 5s 82us/step - loss: 0.5165 - accuracy: 0.8953 - val_loss: 0.2529 - val_accuracy: 0.9864\n",
      "Epoch 86/100\n",
      "60000/60000 [==============================] - 5s 85us/step - loss: 0.5146 - accuracy: 0.8930 - val_loss: 0.2691 - val_accuracy: 0.9869\n",
      "Epoch 87/100\n",
      "60000/60000 [==============================] - 6s 99us/step - loss: 0.5093 - accuracy: 0.8949 - val_loss: 0.2525 - val_accuracy: 0.9868\n",
      "Epoch 88/100\n",
      "60000/60000 [==============================] - 6s 95us/step - loss: 0.5054 - accuracy: 0.8988 - val_loss: 0.2504 - val_accuracy: 0.9874\n",
      "Epoch 89/100\n",
      "60000/60000 [==============================] - 6s 108us/step - loss: 0.5024 - accuracy: 0.9005 - val_loss: 0.2681 - val_accuracy: 0.9865\n",
      "Epoch 90/100\n",
      "60000/60000 [==============================] - 6s 95us/step - loss: 0.5037 - accuracy: 0.8986 - val_loss: 0.2758 - val_accuracy: 0.9848\n",
      "\n",
      "Epoch 00090: val_accuracy did not improve from 0.98790\n",
      "Epoch 91/100\n",
      "60000/60000 [==============================] - 6s 100us/step - loss: 0.4975 - accuracy: 0.9000 - val_loss: 0.2620 - val_accuracy: 0.9878\n",
      "Epoch 92/100\n",
      "60000/60000 [==============================] - 5s 85us/step - loss: 0.4983 - accuracy: 0.9011 - val_loss: 0.2604 - val_accuracy: 0.9851\n",
      "Epoch 93/100\n",
      "60000/60000 [==============================] - 7s 114us/step - loss: 0.4995 - accuracy: 0.9012 - val_loss: 0.2552 - val_accuracy: 0.9854\n",
      "Epoch 94/100\n",
      "60000/60000 [==============================] - 5s 81us/step - loss: 0.5034 - accuracy: 0.8984 - val_loss: 0.2627 - val_accuracy: 0.9876\n",
      "Epoch 95/100\n",
      "60000/60000 [==============================] - 6s 94us/step - loss: 0.4981 - accuracy: 0.9003 - val_loss: 0.2594 - val_accuracy: 0.9871\n",
      "Epoch 96/100\n",
      "60000/60000 [==============================] - 5s 82us/step - loss: 0.4981 - accuracy: 0.9028 - val_loss: 0.2572 - val_accuracy: 0.9886\n",
      "Epoch 97/100\n",
      "60000/60000 [==============================] - 6s 105us/step - loss: 0.4943 - accuracy: 0.9020 - val_loss: 0.2541 - val_accuracy: 0.9879\n",
      "Epoch 98/100\n",
      "60000/60000 [==============================] - 7s 109us/step - loss: 0.4891 - accuracy: 0.9033 - val_loss: 0.2569 - val_accuracy: 0.9877\n",
      "Epoch 99/100\n",
      "60000/60000 [==============================] - 5s 81us/step - loss: 0.4876 - accuracy: 0.9048 - val_loss: 0.2699 - val_accuracy: 0.9867\n",
      "Epoch 100/100\n",
      "60000/60000 [==============================] - 5s 82us/step - loss: 0.4977 - accuracy: 0.9023 - val_loss: 0.2753 - val_accuracy: 0.9866\n",
      "\n",
      "Epoch 00100: val_accuracy did not improve from 0.98790\n"
     ]
    }
   ],
   "source": [
    "h = model.fit(x_train, y_train, batch_size = 1000, epochs = 100, validation_data=(x_test, y_test), callbacks = callbacks)"
   ]
  },
  {
   "cell_type": "code",
   "execution_count": 105,
   "metadata": {},
   "outputs": [
    {
     "name": "stdout",
     "output_type": "stream",
     "text": [
      "dict_keys(['val_loss', 'val_accuracy', 'loss', 'accuracy'])\n"
     ]
    }
   ],
   "source": [
    "print(h.history.keys())"
   ]
  },
  {
   "cell_type": "code",
   "execution_count": 106,
   "metadata": {},
   "outputs": [
    {
     "name": "stdout",
     "output_type": "stream",
     "text": [
      "10000/10000 [==============================] - 1s 58us/step\n",
      "Validation Accuracy UNTRAINED: 0.99\n",
      "Final Loss on Testing Data UNTRAINED: 0.275319\n",
      "Final Untrained Test ACCURACY: 0.986600\n"
     ]
    }
   ],
   "source": [
    "accuracy = model.evaluate(x_test, y_test)\n",
    "print(f\"Validation Accuracy UNTRAINED: {h.history['val_accuracy'][-1]:.02f}\")\n",
    "print(f\"Final Loss on Testing Data UNTRAINED: {accuracy[0]:02f}\")\n",
    "print(f\"Final Untrained Test ACCURACY: {accuracy[1]:02f}\")"
   ]
  },
  {
   "cell_type": "code",
   "execution_count": 107,
   "metadata": {},
   "outputs": [
    {
     "name": "stdout",
     "output_type": "stream",
     "text": [
      "10000/10000 [==============================] - 1s 66us/step\n",
      "Validation Accuracy UNTRAINED: 0.99\n",
      "Final Loss on Testing Data TRAINED: 0.260905\n",
      "Final Trained Test ACCURACY: 0.987900\n"
     ]
    }
   ],
   "source": [
    "\n",
    "model.load_weights(\"best-weights.hdf5\")\n",
    "accuracy = model.evaluate(x_test, y_test)\n",
    "print(f\"Validation Accuracy UNTRAINED: {h.history['val_accuracy'][-1]:.02f}\")\n",
    "print(f\"Final Loss on Testing Data TRAINED: {accuracy[0]:02f}\")\n",
    "print(f\"Final Trained Test ACCURACY: {accuracy[1]:02f}\")"
   ]
  },
  {
   "cell_type": "code",
   "execution_count": 108,
   "metadata": {},
   "outputs": [
    {
     "data": {
      "image/png": "[encoded data removed]",
      "text/plain": [
       "<Figure size 432x288 with 1 Axes>"
      ]
     },
     "metadata": {
      "needs_background": "light"
     },
     "output_type": "display_data"
    }
   ],
   "source": [
    "##ACCURACY GRAPH\n",
    "plt.plot(h.history['accuracy'])\n",
    "plt.plot(h.history['val_accuracy'])\n",
    "plt.title('model accuracy')\n",
    "plt.ylabel('accuracy')\n",
    "plt.xlabel('epoch')\n",
    "plt.legend(['train', 'test'], loc='upper left')\n",
    "plt.show()"
   ]
  },
  {
   "cell_type": "code",
   "execution_count": 109,
   "metadata": {},
   "outputs": [
    {
     "data": {
      "image/png": "[encoded data removed]",
      "text/plain": [
       "<Figure size 432x288 with 1 Axes>"
      ]
     },
     "metadata": {
      "needs_background": "light"
     },
     "output_type": "display_data"
    }
   ],
   "source": [
    "##LOSS GRAPH\n",
    "plt.plot(h.history['loss'])\n",
    "plt.plot(h.history['val_loss'])\n",
    "plt.title('model loss')\n",
    "plt.ylabel('loss')\n",
    "plt.xlabel('epoch')\n",
    "plt.legend(['train', 'test'], loc='upper left')\n",
    "plt.show()"
   ]
  },
  {
   "cell_type": "code",
   "execution_count": null,
   "metadata": {},
   "outputs": [],
   "source": []
  }
 ],
 "metadata": {
  "kernelspec": {
   "display_name": "Python 3",
   "language": "python",
   "name": "python3"
  },
  "language_info": {
   "codemirror_mode": {
    "name": "ipython",
    "version": 3
   },
   "file_extension": ".py",
   "mimetype": "text/x-python",
   "name": "python",
   "nbconvert_exporter": "python",
   "pygments_lexer": "ipython3",
   "version": "3.7.4"
  }
 },
 "nbformat": 4,
 "nbformat_minor": 2
}
